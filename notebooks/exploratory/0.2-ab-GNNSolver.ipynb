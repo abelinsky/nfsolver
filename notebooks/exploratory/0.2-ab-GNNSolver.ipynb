{
 "cells": [
  {
   "cell_type": "code",
   "execution_count": 50,
   "metadata": {},
   "outputs": [],
   "source": [
    "import torch\n",
    "from torch.nn import Sequential, Linear, Parameter, ReLU\n",
    "import torch.nn.functional as F\n",
    "\n",
    "import torch_geometric\n",
    "from torch_geometric.nn import MessagePassing, GeneralConv\n",
    "from torch_geometric.data import Data\n",
    "from torch_geometric.utils import add_self_loops, segregate_self_loops\n",
    "from typing import Any, Dict, List, Optional, Union\n",
    "from torch import Tensor\n",
    "from torch_geometric.nn.aggr import Aggregation\n",
    "from torch_geometric.typing import Adj, OptTensor\n",
    "\n",
    "import networkx as nx\n"
   ]
  },
  {
   "cell_type": "code",
   "execution_count": 8,
   "metadata": {},
   "outputs": [],
   "source": [
    "class GNNSolver(MessagePassing):\n",
    "    def __init__(self, in_channels: int, out_channels: int, num_edge_features: int, alpha: float = 0.01) -> None:\n",
    "        \"\"\"\n",
    "        Args:\n",
    "            in_channels: число фичей в вершинах графа\n",
    "            alpha: параметр для учета величины обновления X\n",
    "        \"\"\"\n",
    "        super().__init__(aggr=\"add\")\n",
    "        self.alpha = alpha\n",
    "\n",
    "        self.linear = Linear(in_channels, out_channels, bias=False)\n",
    "        self.num_edge_features = num_edge_features\n",
    "\n",
    "        self.mlp = Sequential(\n",
    "            Linear(2 * in_channels + num_edge_features, out_channels),\n",
    "            ReLU(),\n",
    "            Linear(out_channels, out_channels)\n",
    "        )\n",
    "        self.reset_parameters()\n",
    "\n",
    "    def reset_parameters(self):\n",
    "        self.linear.reset_parameters()\n",
    "        # self.bias.zero_()\n",
    "\n",
    "    def forward(self, x: Tensor, edge_index: Adj,\n",
    "                edge_attr: Tensor = None) -> Tensor:\n",
    "        \"\"\"\n",
    "        Args:\n",
    "            x: Данные размерностью [num_nodes, num_features]  (num_features := in_channels) \n",
    "            edge_index has shape [2, num_edges]\n",
    "        \"\"\"\n",
    "        x, edge_index, edge_attr = data.x, data.edge_index, data.edge_attr\n",
    "        \n",
    "        res = x\n",
    "        self.flow = 'source_to_target'\n",
    "\n",
    "        # Формирование сообщения j -> i\n",
    "        phi_in = self.propagate(edge_index, x=x, edge_attr=edge_attr, type=\"in\")\n",
    "\n",
    "        # Формирование сообщения i -> i\n",
    "        phi_loop = self.propagate(edge_index, x=x, edge_attr=edge_attr, type=\"loop\")\n",
    "\n",
    "        # Формирование сообщения i -> j\n",
    "        self.flow = 'target_to_source'\n",
    "        phi_out = self.propagate(edge_index, x=x, edge_attr=edge_attr, type=\"out\")\n",
    "\n",
    "\n",
    "        # Добавление петель\n",
    "        # edge_index, _ = add_self_loops(edge_index, num_nodes=x.size(0))\n",
    "\n",
    "        # Propagate\n",
    "        out = self.propagate(edge_index, x=x)\n",
    "\n",
    "        # ResNet fashion\n",
    "        out = res + self.alpha * out\n",
    "\n",
    "        return out\n",
    "\n",
    "    def message(self, x_i: Tensor, x_j: Tensor, edge_attr: OptTensor, edge_index_i: Tensor, edge_index_j: Tensor) -> Tensor:\n",
    "        \"\"\"\n",
    "        Args:\n",
    "            x_i: Target node features [num_edges, num_features]\n",
    "            x_j: Source node features [num_edges, num_features]\n",
    "        \"\"\"\n",
    "        tmp = torch.cat([x_i, x_j, edge_attr], dim=-1) # shape [E, 2 * in_channels + num_edge_features]\n",
    "        return self.mlp(tmp)\n",
    "    \n",
    "    def __repr__(self) -> str:\n",
    "        return (f'{self.__class__.__name__}({self.in_channels}, '\n",
    "                f'{self.out_channels}, aggr={self.aggr})')\n"
   ]
  },
  {
   "cell_type": "code",
   "execution_count": 71,
   "metadata": {},
   "outputs": [],
   "source": [
    "edge_index = torch.tensor([\n",
    "  [0, 1],\n",
    "  [1, 2]\n",
    "], dtype=torch.long)\n",
    "\n",
    "edge_index, _ = add_self_loops(edge_index)\n",
    "\n",
    "edge_index, edge_attr, loop_edge_index, loop_edge_attr = segregate_self_loops(edge_index)\n",
    "\n",
    "# x = torch.tensor([[-1], [0], [1]], dtype=torch.float)\n",
    "# edge_attr = torch.tensor([\n",
    "#   [4, 5],\n",
    "#   [6, 7]\n",
    "# ])\n",
    "\n",
    "# data = Data(x=x, edge_index=edge_index, edge_attr=edge_attr)\n",
    "# g = torch_geometric.utils.to_networkx(data, to_undirected=True)\n",
    "# # nx.draw(g, pos=nx.planar_layout(g))"
   ]
  },
  {
   "cell_type": "code",
   "execution_count": 72,
   "metadata": {},
   "outputs": [
    {
     "name": "stdout",
     "output_type": "stream",
     "text": [
      "tensor([[0, 1],\n",
      "        [1, 2]])\n"
     ]
    }
   ],
   "source": [
    "print(edge_index)"
   ]
  },
  {
   "cell_type": "code",
   "execution_count": 74,
   "metadata": {},
   "outputs": [
    {
     "name": "stdout",
     "output_type": "stream",
     "text": [
      "tensor([[0, 1, 2],\n",
      "        [0, 1, 2]])\n"
     ]
    }
   ],
   "source": [
    "print(loop_edge_index)"
   ]
  },
  {
   "cell_type": "code",
   "execution_count": null,
   "metadata": {},
   "outputs": [],
   "source": []
  }
 ],
 "metadata": {
  "kernelspec": {
   "display_name": "nfsolver",
   "language": "python",
   "name": "python3"
  },
  "language_info": {
   "codemirror_mode": {
    "name": "ipython",
    "version": 3
   },
   "file_extension": ".py",
   "mimetype": "text/x-python",
   "name": "python",
   "nbconvert_exporter": "python",
   "pygments_lexer": "ipython3",
   "version": "3.11.5"
  },
  "orig_nbformat": 4
 },
 "nbformat": 4,
 "nbformat_minor": 2
}
