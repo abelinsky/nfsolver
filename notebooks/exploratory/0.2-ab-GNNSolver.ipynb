{
 "cells": [
  {
   "cell_type": "code",
   "execution_count": 8,
   "metadata": {},
   "outputs": [],
   "source": [
    "import torch\n",
    "from torch.nn import Sequential, Linear, Parameter, ReLU, ELU\n",
    "import torch.nn.functional as F\n",
    "\n",
    "import torch_geometric\n",
    "from torch_geometric.nn import MessagePassing, GeneralConv, GCNConv\n",
    "from torch_geometric.data import Data\n",
    "from torch_geometric.utils import add_self_loops, segregate_self_loops, to_networkx\n",
    "from typing import Any, Dict, List, Optional, Union\n",
    "from torch import Tensor\n",
    "from torch_geometric.nn.aggr import Aggregation\n",
    "from torch_geometric.typing import Adj, OptTensor\n",
    "\n",
    "%matplotlib inline\n",
    "import networkx as nx\n",
    "import matplotlib.pyplot as plt\n"
   ]
  },
  {
   "cell_type": "code",
   "execution_count": 9,
   "metadata": {},
   "outputs": [],
   "source": [
    "from typing import Optional\n",
    "\n",
    "\n",
    "from torch import Tensor\n",
    "\n",
    "\n",
    "class GNNSConv(MessagePassing):\n",
    "    def __init__(self, latent_dim: int, num_node_features: int, num_edge_features: int, alpha: float = 0.01) -> None:\n",
    "        \"\"\"\n",
    "        Args:\n",
    "            in_channels: число фичей в вершинах графа\n",
    "            alpha: параметр для учета величины обновления X\n",
    "        \"\"\"\n",
    "        super().__init__(aggr=\"add\")\n",
    "        self.alpha = alpha\n",
    "        self.latent_dim = latent_dim\n",
    "\n",
    "        self.mlp_in = Sequential(\n",
    "            Linear(2 * latent_dim + num_edge_features, latent_dim),\n",
    "            ELU(),\n",
    "            Linear(latent_dim, latent_dim)\n",
    "        )\n",
    "\n",
    "        self.mlp_out = Sequential(\n",
    "            Linear(2 * latent_dim + num_edge_features, latent_dim),\n",
    "            ELU(),\n",
    "            Linear(latent_dim, latent_dim)\n",
    "        )\n",
    "\n",
    "        self.mlp_psi = Sequential(\n",
    "            Linear(latent_dim * 3 + num_edge_features, latent_dim),\n",
    "            ELU(),\n",
    "            Linear(latent_dim, latent_dim)\n",
    "        )        \n",
    "\n",
    "        self.reset_parameters()\n",
    "\n",
    "    def reset_parameters(self):\n",
    "        super().reset_parameters()\n",
    "\n",
    "    def forward(self, X: Tensor, edge_index: Adj, node_attr: Tensor, edge_attr: Tensor) -> Tensor:\n",
    "        \"\"\"\n",
    "        Args:\n",
    "            X: Латентное представление данных в вершинах графа, [num_nodes, in_channels]    \n",
    "            edge_index: Разреженная матрица смежности, [2, num_nodes]\n",
    "            node_attr: Значения параметров в вершинах графа, [num_nodes, num_node_features]\n",
    "            edge_attr: Значения атрибутов дуг графа, [num_edges, num_edge_features]\n",
    "        \"\"\"\n",
    "\n",
    "        assert X.shape[1] == self.latent_dim, f'Размерность латентного вектора X должна совпадать с размерностью `latent_dim`, получено X.shape={X.shape}, latent_dim={self.latent_dim}'\n",
    "\n",
    "        # print(f'forward pass, {X=}')\n",
    "\n",
    "        # Формирование сообщения j -> i\n",
    "        self.flow = 'source_to_target'\n",
    "        phi_in = self.propagate(edge_index, x=X, edge_attr=edge_attr)\n",
    "        # print(f'{phi_in=}')\n",
    "\n",
    "        # Формирование сообщения i -> j\n",
    "        self.flow = 'target_to_source'\n",
    "        phi_out = self.propagate(edge_index, x=X, edge_attr=edge_attr)\n",
    "        # print(f'{phi_out=}')\n",
    "\n",
    "        # Объединение сообщений\n",
    "        # print(f'{node_attr=}')\n",
    "        inputs = torch.cat([X, node_attr, phi_in, phi_out], dim=-1)\n",
    "        # print(f'{inputs=}')\n",
    "        psi = self.mlp_psi(inputs)\n",
    "        X = X + self.alpha * psi\n",
    "        return X\n",
    "\n",
    "    def message(self, x_i: Tensor, x_j: Tensor, edge_attr: OptTensor) -> Tensor:\n",
    "        \"\"\"\n",
    "        Args:\n",
    "            x_i: Target node features [num_edges, num_features]\n",
    "            x_j: Source node features [num_edges, num_features]\n",
    "            edge_attr: Source node features [num_edges, num_edge_features]\n",
    "        \"\"\"\n",
    "        # print(\">>> message ...\")\n",
    "\n",
    "        mlp = self.mlp_in if self.flow == \"source_to_target\" else self.mlp_out\n",
    "\n",
    "        # print(f'{x_i=}')\n",
    "        # print(f'{x_j=}')\n",
    "        # print(f'{edge_attr=}')\n",
    "\n",
    "        tmp = torch.cat([x_j, x_i, edge_attr], dim=-1) \n",
    "        \n",
    "        # print(f'{tmp=}')\n",
    "        out_message = mlp(tmp)\n",
    "        # print(f'{out_message=}')\n",
    "\n",
    "        return out_message\n",
    "\n",
    "\n",
    "    def __repr__(self) -> str:\n",
    "        return (f'{self.__class__.__name__}(aggr={self.aggr}, latent_dim={self.latent_dim})')\n"
   ]
  },
  {
   "cell_type": "code",
   "execution_count": 10,
   "metadata": {},
   "outputs": [],
   "source": [
    "def visualize_graph(G, color):\n",
    "    plt.figure(figsize=(7,7))\n",
    "    plt.xticks([])\n",
    "    plt.yticks([])\n",
    "    nx.draw_networkx(G, pos=nx.spring_layout(G, seed=42), with_labels=False,\n",
    "                     node_color=color, cmap=\"Set2\")\n",
    "    plt.show()"
   ]
  },
  {
   "cell_type": "code",
   "execution_count": 11,
   "metadata": {},
   "outputs": [
    {
     "name": "stderr",
     "output_type": "stream",
     "text": [
      "/home/ab/anaconda3/envs/nfsolver/lib/python3.11/site-packages/networkx/drawing/nx_pylab.py:433: UserWarning: No data for colormapping provided via 'c'. Parameters 'cmap' will be ignored\n",
      "  node_collection = ax.scatter(\n"
     ]
    },
    {
     "data": {
      "image/png": "[encoded data removed]",
      "text/plain": [
       "<Figure size 700x700 with 1 Axes>"
      ]
     },
     "metadata": {},
     "output_type": "display_data"
    }
   ],
   "source": [
    "edge_index = torch.tensor([\n",
    "  [0, 1, 2],\n",
    "  [1, 2, 3]\n",
    "], dtype=torch.long)\n",
    "\n",
    "x = torch.tensor([[-1, 1], [-2, 2], [-3, 3], [-4, 4]], dtype=torch.float)\n",
    "edge_attr = torch.tensor([\n",
    "  [11, 12],\n",
    "  [13, 14],\n",
    "  [15, 16]\n",
    "])\n",
    "\n",
    "data = Data(x=x, edge_index=edge_index, edge_attr=edge_attr)\n",
    "\n",
    "G = to_networkx(data, to_undirected=True)\n",
    "visualize_graph(G, color=data.y);"
   ]
  },
  {
   "cell_type": "code",
   "execution_count": 12,
   "metadata": {},
   "outputs": [],
   "source": [
    "class GNNProcessor(torch.nn.Module):\n",
    "    \"\"\"Обновляет латентные представления вершин графа за счет использования сверточной графовой нейронной сети.\n",
    "    \"\"\"\n",
    "    def __init__(self, num_node_features: int, num_classes: int, num_edge_features: int, latent_dim: int = 6, num_convs: int = 3) -> None:\n",
    "        \"\"\"Инициализация\n",
    "\n",
    "        Args:\n",
    "            num_features (int): _description_\n",
    "            num_classes (int): _description_\n",
    "            num_edge_features (int): _description_\n",
    "            latent_dim (int, optional): Размерность латентного пространства значений в вершинах графа (по умолчанию 10).\n",
    "            num_convs (int, optional): Количество слоев свертки.\n",
    "        \"\"\"\n",
    "        super().__init__()\n",
    "        torch.manual_seed(1234)\n",
    "        self.latent_dim = latent_dim\n",
    "\n",
    "        self.convs = torch.nn.ModuleList([\n",
    "            GNNSConv(self.latent_dim, num_node_features, num_edge_features) for _ in range(num_convs)\n",
    "        ])\n",
    "\n",
    "    def forward(self, data: Data):\n",
    "        X = torch.zeros((data.num_nodes, self.latent_dim))\n",
    "        edge_index, node_attr, edge_attr = data.edge_index, data.x, data.edge_attr\n",
    "\n",
    "        for conv in self.convs:\n",
    "            X = conv(X, edge_index, node_attr, edge_attr)\n",
    "            X = F.elu(X)\n",
    "\n",
    "        return X"
   ]
  },
  {
   "cell_type": "code",
   "execution_count": 15,
   "metadata": {},
   "outputs": [
    {
     "name": "stdout",
     "output_type": "stream",
     "text": [
      "GNNProcessor(\n",
      "  (convs): ModuleList(\n",
      "    (0-2): 3 x GNNSConv(aggr=add, latent_dim=6)\n",
      "  )\n",
      ")\n"
     ]
    }
   ],
   "source": [
    "model = GNNProcessor(data.num_features, 2, data.num_edge_features, latent_dim=6)\n",
    "print(model)\n",
    "\n",
    "device = torch.device('cuda' if torch.cuda.is_available() else 'cpu')\n",
    "model.to(device)\n",
    "data.to(device)\n",
    "optimizer = torch.optim.Adam(model.parameters(), lr=0.01, weight_decay=5e-4)\n",
    "model.train()\n",
    "\n",
    "for epoch in range(100):\n",
    "  optimizer.zero_grad()\n",
    "  out = model(data)\n",
    "  "
   ]
  },
  {
   "cell_type": "code",
   "execution_count": null,
   "metadata": {},
   "outputs": [],
   "source": []
  },
  {
   "cell_type": "code",
   "execution_count": 14,
   "metadata": {},
   "outputs": [],
   "source": [
    "# model(data)\n"
   ]
  },
  {
   "cell_type": "code",
   "execution_count": null,
   "metadata": {},
   "outputs": [],
   "source": []
  }
 ],
 "metadata": {
  "kernelspec": {
   "display_name": "nfsolver",
   "language": "python",
   "name": "python3"
  },
  "language_info": {
   "codemirror_mode": {
    "name": "ipython",
    "version": 3
   },
   "file_extension": ".py",
   "mimetype": "text/x-python",
   "name": "python",
   "nbconvert_exporter": "python",
   "pygments_lexer": "ipython3",
   "version": "3.11.5"
  },
  "orig_nbformat": 4
 },
 "nbformat": 4,
 "nbformat_minor": 2
}
