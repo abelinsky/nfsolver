{
 "cells": [
  {
   "cell_type": "code",
   "execution_count": 32,
   "metadata": {},
   "outputs": [],
   "source": [
    "import torch\n",
    "from torch.nn import Sequential, Linear, Parameter, ReLU\n",
    "import torch.nn.functional as F\n",
    "\n",
    "import torch_geometric\n",
    "from torch_geometric.nn import MessagePassing, GeneralConv, GCNConv\n",
    "from torch_geometric.data import Data\n",
    "from torch_geometric.utils import add_self_loops, segregate_self_loops, to_networkx\n",
    "from typing import Any, Dict, List, Optional, Union\n",
    "from torch import Tensor\n",
    "from torch_geometric.nn.aggr import Aggregation\n",
    "from torch_geometric.typing import Adj, OptTensor\n",
    "\n",
    "%matplotlib inline\n",
    "import networkx as nx\n",
    "import matplotlib.pyplot as plt\n"
   ]
  },
  {
   "cell_type": "code",
   "execution_count": 39,
   "metadata": {},
   "outputs": [],
   "source": [
    "from typing import Optional\n",
    "\n",
    "\n",
    "from torch import Tensor\n",
    "\n",
    "\n",
    "class GNNSConv(MessagePassing):\n",
    "    def __init__(self, in_channels: int, out_channels: int, num_edge_features: int, alpha: float = 0.01) -> None:\n",
    "        \"\"\"\n",
    "        Args:\n",
    "            in_channels: число фичей в вершинах графа\n",
    "            alpha: параметр для учета величины обновления X\n",
    "        \"\"\"\n",
    "        super().__init__(aggr=\"add\")\n",
    "        self.alpha = alpha\n",
    "        self.in_channels = in_channels\n",
    "        self.out_channels = out_channels\n",
    "\n",
    "        self.linear = Linear(in_channels, out_channels, bias=False)\n",
    "        self.num_edge_features = num_edge_features\n",
    "\n",
    "        self.mlp_in = Sequential(\n",
    "            Linear(2 * in_channels + num_edge_features, out_channels),\n",
    "            ReLU(),\n",
    "            Linear(out_channels, out_channels)\n",
    "        )\n",
    "\n",
    "        self.mlp_out = Sequential(\n",
    "            Linear(2 * in_channels + num_edge_features, out_channels),\n",
    "            ReLU(),\n",
    "            Linear(out_channels, out_channels)\n",
    "        )\n",
    "\n",
    "        self.mlp_psi = Sequential(\n",
    "            Linear(3 * out_channels, out_channels),\n",
    "            ReLU(),\n",
    "            Linear(out_channels, out_channels)\n",
    "        )        \n",
    "\n",
    "        self.mode = 'global_update' \n",
    "\n",
    "        self.reset_parameters()\n",
    "\n",
    "    def reset_parameters(self):\n",
    "        self.linear.reset_parameters()\n",
    "        # self.bias.zero_()\n",
    "\n",
    "    def forward(self, x: Tensor, edge_index: Adj,\n",
    "                node_attr: Tensor,\n",
    "                edge_attr: Tensor) -> Tensor:\n",
    "        \"\"\"\n",
    "        Args:\n",
    "            x: Данные размерностью [num_nodes, num_features]  (num_features := in_channels) \n",
    "            edge_index has shape [2, num_edges]\n",
    "        \"\"\"\n",
    "        # x, edge_index, edge_attr = data.x, data.edge_index, data.edge_attr\n",
    "        \n",
    "        self.mode == 'local_update'\n",
    "\n",
    "        # Формирование сообщения j -> i\n",
    "        self.flow = 'source_to_target'\n",
    "        phi_in = self.propagate(edge_index, x=x, edge_attr=edge_attr)\n",
    "\n",
    "        # Формирование сообщения i -> j\n",
    "        self.flow = 'target_to_source'\n",
    "        phi_out = self.propagate(edge_index, x=x, edge_attr=edge_attr)\n",
    "\n",
    "        # Объединение сообщений\n",
    "        self.mode = 'global_update'\n",
    "        out = self.propagate(edge_index, x=x, edge_attr=edge_attr, phi_in=phi_in, phi_out=phi_out)\n",
    "\n",
    "        # ResNet fashion\n",
    "        out = x + self.alpha * out\n",
    "\n",
    "        return out\n",
    "\n",
    "    def message(self, x_i: Tensor, x_j: Tensor, edge_attr: OptTensor, phi_in_i: OptTensor = None, phi_out_i: OptTensor  = None) -> Tensor:\n",
    "        \"\"\"\n",
    "        Args:\n",
    "            x_i: Target node features [num_edges, num_features]\n",
    "            x_j: Source node features [num_edges, num_features]\n",
    "        \"\"\"\n",
    "        if phi_in_i and phi_out_i:\n",
    "            return torch.cat([x_i, phi_in_i, phi_out_i], dim=-1)\n",
    "\n",
    "        mlp = self.mlp_in if self.flow == \"source_to_target\" else self.mlp_out\n",
    "        tmp = torch.cat([x_i, x_j, edge_attr], dim=-1) \n",
    "        return mlp(tmp)\n",
    "    \n",
    "    def aggregate(self, inputs: Tensor, index: Tensor, ptr: Tensor | None = None, dim_size: int | None = None) -> Tensor:\n",
    "        \n",
    "        if  self.mode == 'global_update':\n",
    "            return inputs\n",
    "        \n",
    "        return super().aggregate(inputs, index, ptr, dim_size)\n",
    "\n",
    "    def update(self, inputs: Tensor, phi_in_i: OptTensor = None, phi_out_i: OptTensor  = None) -> Tensor:\n",
    "        return inputs if self.mode == 'local_update' else self.mlp_psi(inputs)\n",
    "        \n",
    "    def __repr__(self) -> str:\n",
    "        return (f'{self.__class__.__name__}({self.in_channels}, '\n",
    "                f'{self.out_channels}, aggr={self.aggr})')\n"
   ]
  },
  {
   "cell_type": "code",
   "execution_count": 40,
   "metadata": {},
   "outputs": [],
   "source": [
    "def visualize_graph(G, color):\n",
    "    plt.figure(figsize=(7,7))\n",
    "    plt.xticks([])\n",
    "    plt.yticks([])\n",
    "    nx.draw_networkx(G, pos=nx.spring_layout(G, seed=42), with_labels=False,\n",
    "                     node_color=color, cmap=\"Set2\")\n",
    "    plt.show()"
   ]
  },
  {
   "cell_type": "code",
   "execution_count": 41,
   "metadata": {},
   "outputs": [
    {
     "name": "stderr",
     "output_type": "stream",
     "text": [
      "/home/ab/anaconda3/envs/nfsolver/lib/python3.11/site-packages/networkx/drawing/nx_pylab.py:433: UserWarning: No data for colormapping provided via 'c'. Parameters 'cmap' will be ignored\n",
      "  node_collection = ax.scatter(\n"
     ]
    },
    {
     "data": {
      "image/png": "[encoded data removed]",
      "text/plain": [
       "<Figure size 700x700 with 1 Axes>"
      ]
     },
     "metadata": {},
     "output_type": "display_data"
    }
   ],
   "source": [
    "edge_index = torch.tensor([\n",
    "  [0, 1],\n",
    "  [1, 2]\n",
    "], dtype=torch.long)\n",
    "\n",
    "# edge_index, _ = add_self_loops(edge_index)\n",
    "\n",
    "# edge_index, edge_attr, loop_edge_index, loop_edge_attr = segregate_self_loops(edge_index)\n",
    "\n",
    "x = torch.tensor([[-1, 1], [0, 1], [1, 1]], dtype=torch.float)\n",
    "edge_attr = torch.tensor([\n",
    "  [4, 5],\n",
    "  [6, 7]\n",
    "])\n",
    "\n",
    "data = Data(x=x, edge_index=edge_index, edge_attr=edge_attr)\n",
    "\n",
    "G = to_networkx(data, to_undirected=True)\n",
    "visualize_graph(G, color=data.y);"
   ]
  },
  {
   "cell_type": "code",
   "execution_count": 44,
   "metadata": {},
   "outputs": [
    {
     "name": "stdout",
     "output_type": "stream",
     "text": [
      "GNNSolver(\n",
      "  (conv1): GNNSConv(2, 4, aggr=add)\n",
      "  (conv2): GNNSConv(4, 4, aggr=add)\n",
      "  (conv3): GNNSConv(4, 2, aggr=add)\n",
      "  (classifier): Linear(in_features=2, out_features=2, bias=True)\n",
      ")\n"
     ]
    }
   ],
   "source": [
    "class GNNSolver(torch.nn.Module):\n",
    "    def __init__(self, num_features: int, num_classes: int, num_edge_features: int) -> None:\n",
    "        super().__init__()\n",
    "        torch.manual_seed(1234)\n",
    "        self.conv1 = GNNSConv(in_channels=num_features, out_channels=4, num_edge_features=num_edge_features)\n",
    "        self.conv2 = GNNSConv(4, 4, num_edge_features)\n",
    "        self.conv3 = GNNSConv(4, 2, num_edge_features)\n",
    "        self.classifier = Linear(2, num_classes)\n",
    "\n",
    "    def forward(self, x, edge_index, node_attr, edge_attr):\n",
    "        h = self.conv1(x, edge_index, node_attr, edge_attr)\n",
    "        h = F.elu(h)\n",
    "        h = self.conv2(h, edge_index)\n",
    "        h = F.elu(h)\n",
    "        h = self.conv3(h, edge_index)\n",
    "        h = F.elu(h)\n",
    "\n",
    "        out = self.classifier(h)\n",
    "\n",
    "        return out, h\n",
    "    \n",
    "model = GNNSolver(num_features=data.num_features, num_classes=2, num_edge_features=data.num_edge_features)\n",
    "print(model)"
   ]
  },
  {
   "cell_type": "code",
   "execution_count": 45,
   "metadata": {},
   "outputs": [
    {
     "ename": "RuntimeError",
     "evalue": "mat1 and mat2 shapes cannot be multiplied (2x4 and 12x4)",
     "output_type": "error",
     "traceback": [
      "\u001b[0;31m---------------------------------------------------------------------------\u001b[0m",
      "\u001b[0;31mRuntimeError\u001b[0m                              Traceback (most recent call last)",
      "\u001b[1;32m/home/ab/apps/nfsolver/notebooks/exploratory/0.2-ab-GNNSolver.ipynb Cell 6\u001b[0m line \u001b[0;36m1\n\u001b[0;32m----> <a href='vscode-notebook-cell:/home/ab/apps/nfsolver/notebooks/exploratory/0.2-ab-GNNSolver.ipynb#W5sZmlsZQ%3D%3D?line=0'>1</a>\u001b[0m _, h \u001b[39m=\u001b[39m model(data\u001b[39m.\u001b[39;49mx, data\u001b[39m.\u001b[39;49medge_index, data\u001b[39m.\u001b[39;49mnode_attrs, data\u001b[39m.\u001b[39;49medge_attr)\n",
      "File \u001b[0;32m~/anaconda3/envs/nfsolver/lib/python3.11/site-packages/torch/nn/modules/module.py:1501\u001b[0m, in \u001b[0;36mModule._call_impl\u001b[0;34m(self, *args, **kwargs)\u001b[0m\n\u001b[1;32m   1496\u001b[0m \u001b[39m# If we don't have any hooks, we want to skip the rest of the logic in\u001b[39;00m\n\u001b[1;32m   1497\u001b[0m \u001b[39m# this function, and just call forward.\u001b[39;00m\n\u001b[1;32m   1498\u001b[0m \u001b[39mif\u001b[39;00m \u001b[39mnot\u001b[39;00m (\u001b[39mself\u001b[39m\u001b[39m.\u001b[39m_backward_hooks \u001b[39mor\u001b[39;00m \u001b[39mself\u001b[39m\u001b[39m.\u001b[39m_backward_pre_hooks \u001b[39mor\u001b[39;00m \u001b[39mself\u001b[39m\u001b[39m.\u001b[39m_forward_hooks \u001b[39mor\u001b[39;00m \u001b[39mself\u001b[39m\u001b[39m.\u001b[39m_forward_pre_hooks\n\u001b[1;32m   1499\u001b[0m         \u001b[39mor\u001b[39;00m _global_backward_pre_hooks \u001b[39mor\u001b[39;00m _global_backward_hooks\n\u001b[1;32m   1500\u001b[0m         \u001b[39mor\u001b[39;00m _global_forward_hooks \u001b[39mor\u001b[39;00m _global_forward_pre_hooks):\n\u001b[0;32m-> 1501\u001b[0m     \u001b[39mreturn\u001b[39;00m forward_call(\u001b[39m*\u001b[39;49margs, \u001b[39m*\u001b[39;49m\u001b[39m*\u001b[39;49mkwargs)\n\u001b[1;32m   1502\u001b[0m \u001b[39m# Do not call functions when jit is used\u001b[39;00m\n\u001b[1;32m   1503\u001b[0m full_backward_hooks, non_full_backward_hooks \u001b[39m=\u001b[39m [], []\n",
      "\u001b[1;32m/home/ab/apps/nfsolver/notebooks/exploratory/0.2-ab-GNNSolver.ipynb Cell 6\u001b[0m line \u001b[0;36m1\n\u001b[1;32m     <a href='vscode-notebook-cell:/home/ab/apps/nfsolver/notebooks/exploratory/0.2-ab-GNNSolver.ipynb#W5sZmlsZQ%3D%3D?line=9'>10</a>\u001b[0m \u001b[39mdef\u001b[39;00m \u001b[39mforward\u001b[39m(\u001b[39mself\u001b[39m, x, edge_index, node_attr, edge_attr):\n\u001b[0;32m---> <a href='vscode-notebook-cell:/home/ab/apps/nfsolver/notebooks/exploratory/0.2-ab-GNNSolver.ipynb#W5sZmlsZQ%3D%3D?line=10'>11</a>\u001b[0m     h \u001b[39m=\u001b[39m \u001b[39mself\u001b[39;49m\u001b[39m.\u001b[39;49mconv1(x, edge_index, node_attr, edge_attr)\n\u001b[1;32m     <a href='vscode-notebook-cell:/home/ab/apps/nfsolver/notebooks/exploratory/0.2-ab-GNNSolver.ipynb#W5sZmlsZQ%3D%3D?line=11'>12</a>\u001b[0m     h \u001b[39m=\u001b[39m F\u001b[39m.\u001b[39melu(h)\n\u001b[1;32m     <a href='vscode-notebook-cell:/home/ab/apps/nfsolver/notebooks/exploratory/0.2-ab-GNNSolver.ipynb#W5sZmlsZQ%3D%3D?line=12'>13</a>\u001b[0m     h \u001b[39m=\u001b[39m \u001b[39mself\u001b[39m\u001b[39m.\u001b[39mconv2(h, edge_index)\n",
      "File \u001b[0;32m~/anaconda3/envs/nfsolver/lib/python3.11/site-packages/torch/nn/modules/module.py:1501\u001b[0m, in \u001b[0;36mModule._call_impl\u001b[0;34m(self, *args, **kwargs)\u001b[0m\n\u001b[1;32m   1496\u001b[0m \u001b[39m# If we don't have any hooks, we want to skip the rest of the logic in\u001b[39;00m\n\u001b[1;32m   1497\u001b[0m \u001b[39m# this function, and just call forward.\u001b[39;00m\n\u001b[1;32m   1498\u001b[0m \u001b[39mif\u001b[39;00m \u001b[39mnot\u001b[39;00m (\u001b[39mself\u001b[39m\u001b[39m.\u001b[39m_backward_hooks \u001b[39mor\u001b[39;00m \u001b[39mself\u001b[39m\u001b[39m.\u001b[39m_backward_pre_hooks \u001b[39mor\u001b[39;00m \u001b[39mself\u001b[39m\u001b[39m.\u001b[39m_forward_hooks \u001b[39mor\u001b[39;00m \u001b[39mself\u001b[39m\u001b[39m.\u001b[39m_forward_pre_hooks\n\u001b[1;32m   1499\u001b[0m         \u001b[39mor\u001b[39;00m _global_backward_pre_hooks \u001b[39mor\u001b[39;00m _global_backward_hooks\n\u001b[1;32m   1500\u001b[0m         \u001b[39mor\u001b[39;00m _global_forward_hooks \u001b[39mor\u001b[39;00m _global_forward_pre_hooks):\n\u001b[0;32m-> 1501\u001b[0m     \u001b[39mreturn\u001b[39;00m forward_call(\u001b[39m*\u001b[39;49margs, \u001b[39m*\u001b[39;49m\u001b[39m*\u001b[39;49mkwargs)\n\u001b[1;32m   1502\u001b[0m \u001b[39m# Do not call functions when jit is used\u001b[39;00m\n\u001b[1;32m   1503\u001b[0m full_backward_hooks, non_full_backward_hooks \u001b[39m=\u001b[39m [], []\n",
      "\u001b[1;32m/home/ab/apps/nfsolver/notebooks/exploratory/0.2-ab-GNNSolver.ipynb Cell 6\u001b[0m line \u001b[0;36m6\n\u001b[1;32m     <a href='vscode-notebook-cell:/home/ab/apps/nfsolver/notebooks/exploratory/0.2-ab-GNNSolver.ipynb#W5sZmlsZQ%3D%3D?line=59'>60</a>\u001b[0m \u001b[39m# Формирование сообщения j -> i\u001b[39;00m\n\u001b[1;32m     <a href='vscode-notebook-cell:/home/ab/apps/nfsolver/notebooks/exploratory/0.2-ab-GNNSolver.ipynb#W5sZmlsZQ%3D%3D?line=60'>61</a>\u001b[0m \u001b[39mself\u001b[39m\u001b[39m.\u001b[39mflow \u001b[39m=\u001b[39m \u001b[39m'\u001b[39m\u001b[39msource_to_target\u001b[39m\u001b[39m'\u001b[39m\n\u001b[0;32m---> <a href='vscode-notebook-cell:/home/ab/apps/nfsolver/notebooks/exploratory/0.2-ab-GNNSolver.ipynb#W5sZmlsZQ%3D%3D?line=61'>62</a>\u001b[0m phi_in \u001b[39m=\u001b[39m \u001b[39mself\u001b[39;49m\u001b[39m.\u001b[39;49mpropagate(edge_index, x\u001b[39m=\u001b[39;49mx, edge_attr\u001b[39m=\u001b[39;49medge_attr)\n\u001b[1;32m     <a href='vscode-notebook-cell:/home/ab/apps/nfsolver/notebooks/exploratory/0.2-ab-GNNSolver.ipynb#W5sZmlsZQ%3D%3D?line=63'>64</a>\u001b[0m \u001b[39m# Формирование сообщения i -> j\u001b[39;00m\n\u001b[1;32m     <a href='vscode-notebook-cell:/home/ab/apps/nfsolver/notebooks/exploratory/0.2-ab-GNNSolver.ipynb#W5sZmlsZQ%3D%3D?line=64'>65</a>\u001b[0m \u001b[39mself\u001b[39m\u001b[39m.\u001b[39mflow \u001b[39m=\u001b[39m \u001b[39m'\u001b[39m\u001b[39mtarget_to_source\u001b[39m\u001b[39m'\u001b[39m\n",
      "File \u001b[0;32m~/anaconda3/envs/nfsolver/lib/python3.11/site-packages/torch_geometric/nn/conv/message_passing.py:492\u001b[0m, in \u001b[0;36mMessagePassing.propagate\u001b[0;34m(self, edge_index, size, **kwargs)\u001b[0m\n\u001b[1;32m    489\u001b[0m         out \u001b[39m=\u001b[39m res\n\u001b[1;32m    491\u001b[0m update_kwargs \u001b[39m=\u001b[39m \u001b[39mself\u001b[39m\u001b[39m.\u001b[39minspector\u001b[39m.\u001b[39mdistribute(\u001b[39m'\u001b[39m\u001b[39mupdate\u001b[39m\u001b[39m'\u001b[39m, coll_dict)\n\u001b[0;32m--> 492\u001b[0m out \u001b[39m=\u001b[39m \u001b[39mself\u001b[39;49m\u001b[39m.\u001b[39;49mupdate(out, \u001b[39m*\u001b[39;49m\u001b[39m*\u001b[39;49mupdate_kwargs)\n\u001b[1;32m    494\u001b[0m \u001b[39mif\u001b[39;00m decomposed_layers \u001b[39m>\u001b[39m \u001b[39m1\u001b[39m:\n\u001b[1;32m    495\u001b[0m     decomp_out\u001b[39m.\u001b[39mappend(out)\n",
      "\u001b[1;32m/home/ab/apps/nfsolver/notebooks/exploratory/0.2-ab-GNNSolver.ipynb Cell 6\u001b[0m line \u001b[0;36m9\n\u001b[1;32m     <a href='vscode-notebook-cell:/home/ab/apps/nfsolver/notebooks/exploratory/0.2-ab-GNNSolver.ipynb#W5sZmlsZQ%3D%3D?line=96'>97</a>\u001b[0m \u001b[39mdef\u001b[39;00m \u001b[39mupdate\u001b[39m(\u001b[39mself\u001b[39m, inputs: Tensor, phi_in_i: OptTensor \u001b[39m=\u001b[39m \u001b[39mNone\u001b[39;00m, phi_out_i: OptTensor  \u001b[39m=\u001b[39m \u001b[39mNone\u001b[39;00m) \u001b[39m-\u001b[39m\u001b[39m>\u001b[39m Tensor:\n\u001b[0;32m---> <a href='vscode-notebook-cell:/home/ab/apps/nfsolver/notebooks/exploratory/0.2-ab-GNNSolver.ipynb#W5sZmlsZQ%3D%3D?line=97'>98</a>\u001b[0m     \u001b[39mreturn\u001b[39;00m inputs \u001b[39mif\u001b[39;00m \u001b[39mself\u001b[39m\u001b[39m.\u001b[39mmode \u001b[39m==\u001b[39m \u001b[39m'\u001b[39m\u001b[39mlocal_update\u001b[39m\u001b[39m'\u001b[39m \u001b[39melse\u001b[39;00m \u001b[39mself\u001b[39;49m\u001b[39m.\u001b[39;49mmlp_psi(inputs)\n",
      "File \u001b[0;32m~/anaconda3/envs/nfsolver/lib/python3.11/site-packages/torch/nn/modules/module.py:1501\u001b[0m, in \u001b[0;36mModule._call_impl\u001b[0;34m(self, *args, **kwargs)\u001b[0m\n\u001b[1;32m   1496\u001b[0m \u001b[39m# If we don't have any hooks, we want to skip the rest of the logic in\u001b[39;00m\n\u001b[1;32m   1497\u001b[0m \u001b[39m# this function, and just call forward.\u001b[39;00m\n\u001b[1;32m   1498\u001b[0m \u001b[39mif\u001b[39;00m \u001b[39mnot\u001b[39;00m (\u001b[39mself\u001b[39m\u001b[39m.\u001b[39m_backward_hooks \u001b[39mor\u001b[39;00m \u001b[39mself\u001b[39m\u001b[39m.\u001b[39m_backward_pre_hooks \u001b[39mor\u001b[39;00m \u001b[39mself\u001b[39m\u001b[39m.\u001b[39m_forward_hooks \u001b[39mor\u001b[39;00m \u001b[39mself\u001b[39m\u001b[39m.\u001b[39m_forward_pre_hooks\n\u001b[1;32m   1499\u001b[0m         \u001b[39mor\u001b[39;00m _global_backward_pre_hooks \u001b[39mor\u001b[39;00m _global_backward_hooks\n\u001b[1;32m   1500\u001b[0m         \u001b[39mor\u001b[39;00m _global_forward_hooks \u001b[39mor\u001b[39;00m _global_forward_pre_hooks):\n\u001b[0;32m-> 1501\u001b[0m     \u001b[39mreturn\u001b[39;00m forward_call(\u001b[39m*\u001b[39;49margs, \u001b[39m*\u001b[39;49m\u001b[39m*\u001b[39;49mkwargs)\n\u001b[1;32m   1502\u001b[0m \u001b[39m# Do not call functions when jit is used\u001b[39;00m\n\u001b[1;32m   1503\u001b[0m full_backward_hooks, non_full_backward_hooks \u001b[39m=\u001b[39m [], []\n",
      "File \u001b[0;32m~/anaconda3/envs/nfsolver/lib/python3.11/site-packages/torch/nn/modules/container.py:217\u001b[0m, in \u001b[0;36mSequential.forward\u001b[0;34m(self, input)\u001b[0m\n\u001b[1;32m    215\u001b[0m \u001b[39mdef\u001b[39;00m \u001b[39mforward\u001b[39m(\u001b[39mself\u001b[39m, \u001b[39minput\u001b[39m):\n\u001b[1;32m    216\u001b[0m     \u001b[39mfor\u001b[39;00m module \u001b[39min\u001b[39;00m \u001b[39mself\u001b[39m:\n\u001b[0;32m--> 217\u001b[0m         \u001b[39minput\u001b[39m \u001b[39m=\u001b[39m module(\u001b[39minput\u001b[39;49m)\n\u001b[1;32m    218\u001b[0m     \u001b[39mreturn\u001b[39;00m \u001b[39minput\u001b[39m\n",
      "File \u001b[0;32m~/anaconda3/envs/nfsolver/lib/python3.11/site-packages/torch/nn/modules/module.py:1501\u001b[0m, in \u001b[0;36mModule._call_impl\u001b[0;34m(self, *args, **kwargs)\u001b[0m\n\u001b[1;32m   1496\u001b[0m \u001b[39m# If we don't have any hooks, we want to skip the rest of the logic in\u001b[39;00m\n\u001b[1;32m   1497\u001b[0m \u001b[39m# this function, and just call forward.\u001b[39;00m\n\u001b[1;32m   1498\u001b[0m \u001b[39mif\u001b[39;00m \u001b[39mnot\u001b[39;00m (\u001b[39mself\u001b[39m\u001b[39m.\u001b[39m_backward_hooks \u001b[39mor\u001b[39;00m \u001b[39mself\u001b[39m\u001b[39m.\u001b[39m_backward_pre_hooks \u001b[39mor\u001b[39;00m \u001b[39mself\u001b[39m\u001b[39m.\u001b[39m_forward_hooks \u001b[39mor\u001b[39;00m \u001b[39mself\u001b[39m\u001b[39m.\u001b[39m_forward_pre_hooks\n\u001b[1;32m   1499\u001b[0m         \u001b[39mor\u001b[39;00m _global_backward_pre_hooks \u001b[39mor\u001b[39;00m _global_backward_hooks\n\u001b[1;32m   1500\u001b[0m         \u001b[39mor\u001b[39;00m _global_forward_hooks \u001b[39mor\u001b[39;00m _global_forward_pre_hooks):\n\u001b[0;32m-> 1501\u001b[0m     \u001b[39mreturn\u001b[39;00m forward_call(\u001b[39m*\u001b[39;49margs, \u001b[39m*\u001b[39;49m\u001b[39m*\u001b[39;49mkwargs)\n\u001b[1;32m   1502\u001b[0m \u001b[39m# Do not call functions when jit is used\u001b[39;00m\n\u001b[1;32m   1503\u001b[0m full_backward_hooks, non_full_backward_hooks \u001b[39m=\u001b[39m [], []\n",
      "File \u001b[0;32m~/anaconda3/envs/nfsolver/lib/python3.11/site-packages/torch/nn/modules/linear.py:114\u001b[0m, in \u001b[0;36mLinear.forward\u001b[0;34m(self, input)\u001b[0m\n\u001b[1;32m    113\u001b[0m \u001b[39mdef\u001b[39;00m \u001b[39mforward\u001b[39m(\u001b[39mself\u001b[39m, \u001b[39minput\u001b[39m: Tensor) \u001b[39m-\u001b[39m\u001b[39m>\u001b[39m Tensor:\n\u001b[0;32m--> 114\u001b[0m     \u001b[39mreturn\u001b[39;00m F\u001b[39m.\u001b[39;49mlinear(\u001b[39minput\u001b[39;49m, \u001b[39mself\u001b[39;49m\u001b[39m.\u001b[39;49mweight, \u001b[39mself\u001b[39;49m\u001b[39m.\u001b[39;49mbias)\n",
      "\u001b[0;31mRuntimeError\u001b[0m: mat1 and mat2 shapes cannot be multiplied (2x4 and 12x4)"
     ]
    }
   ],
   "source": [
    "_, h = model(data.x, data.edge_index, data.node_attrs, data.edge_attr)\n"
   ]
  },
  {
   "cell_type": "code",
   "execution_count": null,
   "metadata": {},
   "outputs": [],
   "source": []
  },
  {
   "cell_type": "code",
   "execution_count": null,
   "metadata": {},
   "outputs": [],
   "source": []
  }
 ],
 "metadata": {
  "kernelspec": {
   "display_name": "nfsolver",
   "language": "python",
   "name": "python3"
  },
  "language_info": {
   "codemirror_mode": {
    "name": "ipython",
    "version": 3
   },
   "file_extension": ".py",
   "mimetype": "text/x-python",
   "name": "python",
   "nbconvert_exporter": "python",
   "pygments_lexer": "ipython3",
   "version": "3.11.5"
  },
  "orig_nbformat": 4
 },
 "nbformat": 4,
 "nbformat_minor": 2
}
