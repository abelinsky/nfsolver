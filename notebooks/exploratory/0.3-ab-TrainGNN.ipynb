{
 "cells": [
  {
   "cell_type": "markdown",
   "metadata": {},
   "source": [
    "# Обучение GNN-модели на датасете графов"
   ]
  },
  {
   "cell_type": "code",
   "execution_count": null,
   "metadata": {},
   "outputs": [],
   "source": [
    "%load_ext autoreload\n",
    "%autoreload 2\n",
    "\n",
    "from src.data.hydrodataset import HydroDataset\n",
    "\n",
    "import torch\n",
    "torch.autograd.set_detect_anomaly(True)\n",
    "\n",
    "from src.models.gnnprocessor import GNNProcessor\n",
    "from src.visualization.visualize import visualize_graph\n",
    "from src.models.train_model import HydraulicsLoss\n",
    "\n",
    "from torch_geometric.nn import summary\n",
    "from torch_geometric.data import Data\n",
    "from torch_geometric.loader import DataLoader\n",
    "from torch_geometric.utils import to_networkx\n",
    "\n",
    "import matplotlib.pyplot as plt"
   ]
  },
  {
   "cell_type": "code",
   "execution_count": null,
   "metadata": {},
   "outputs": [],
   "source": [
    "dataset = HydroDataset(root=\"/tmp/hydro\")\n",
    "train_ds = dataset\n",
    "print(\"Dataset length:\", len(train_ds))"
   ]
  },
  {
   "cell_type": "code",
   "execution_count": null,
   "metadata": {},
   "outputs": [],
   "source": [
    "G = to_networkx(dataset[0], to_undirected=False)\n",
    "visualize_graph(G, color=dataset[0].x[..., 1] == 0);\n"
   ]
  },
  {
   "cell_type": "code",
   "execution_count": null,
   "metadata": {},
   "outputs": [],
   "source": [
    "loader = DataLoader(train_ds, batch_size=32)"
   ]
  },
  {
   "cell_type": "code",
   "execution_count": null,
   "metadata": {},
   "outputs": [],
   "source": [
    "model = GNNProcessor(out_channels=1, num_edge_features=dataset.num_edge_features, latent_dim=10, num_convs=20)\n",
    "\n",
    "device = torch.device('cuda' if torch.cuda.is_available() else 'cpu')\n",
    "model.to(device)\n",
    "\n",
    "print(model)"
   ]
  },
  {
   "cell_type": "code",
   "execution_count": 24,
   "metadata": {},
   "outputs": [
    {
     "ename": "TypeError",
     "evalue": "expected Tensor as element 2 in argument 0, but got list",
     "output_type": "error",
     "traceback": [
      "\u001b[0;31m---------------------------------------------------------------------------\u001b[0m",
      "\u001b[0;31mTypeError\u001b[0m                                 Traceback (most recent call last)",
      "\u001b[1;32m/home/ab/apps/ml/nfsolver/notebooks/exploratory/0.3-ab-TrainGNN.ipynb Cell 7\u001b[0m line \u001b[0;36m2\n\u001b[1;32m     <a href='vscode-notebook-cell:/home/ab/apps/ml/nfsolver/notebooks/exploratory/0.3-ab-TrainGNN.ipynb#X15sZmlsZQ%3D%3D?line=20'>21</a>\u001b[0m   \u001b[39mreturn\u001b[39;00m total_loss\n\u001b[1;32m     <a href='vscode-notebook-cell:/home/ab/apps/ml/nfsolver/notebooks/exploratory/0.3-ab-TrainGNN.ipynb#X15sZmlsZQ%3D%3D?line=22'>23</a>\u001b[0m \u001b[39mfor\u001b[39;00m epoch \u001b[39min\u001b[39;00m \u001b[39mrange\u001b[39m(\u001b[39m250\u001b[39m):\n\u001b[0;32m---> <a href='vscode-notebook-cell:/home/ab/apps/ml/nfsolver/notebooks/exploratory/0.3-ab-TrainGNN.ipynb#X15sZmlsZQ%3D%3D?line=23'>24</a>\u001b[0m   loss \u001b[39m=\u001b[39m train()\n\u001b[1;32m     <a href='vscode-notebook-cell:/home/ab/apps/ml/nfsolver/notebooks/exploratory/0.3-ab-TrainGNN.ipynb#X15sZmlsZQ%3D%3D?line=24'>25</a>\u001b[0m   \u001b[39mprint\u001b[39m(\u001b[39mf\u001b[39m\u001b[39m'\u001b[39m\u001b[39mEpoch: \u001b[39m\u001b[39m{\u001b[39;00mepoch\u001b[39m:\u001b[39;00m\u001b[39m03d\u001b[39m\u001b[39m}\u001b[39;00m\u001b[39m, Loss: \u001b[39m\u001b[39m{\u001b[39;00mloss\u001b[39m:\u001b[39;00m\u001b[39m.4f\u001b[39m\u001b[39m}\u001b[39;00m\u001b[39m'\u001b[39m)  \n",
      "\u001b[1;32m/home/ab/apps/ml/nfsolver/notebooks/exploratory/0.3-ab-TrainGNN.ipynb Cell 7\u001b[0m line \u001b[0;36m1\n\u001b[1;32m     <a href='vscode-notebook-cell:/home/ab/apps/ml/nfsolver/notebooks/exploratory/0.3-ab-TrainGNN.ipynb#X15sZmlsZQ%3D%3D?line=9'>10</a>\u001b[0m data \u001b[39m=\u001b[39m data\u001b[39m.\u001b[39mto(device)\n\u001b[1;32m     <a href='vscode-notebook-cell:/home/ab/apps/ml/nfsolver/notebooks/exploratory/0.3-ab-TrainGNN.ipynb#X15sZmlsZQ%3D%3D?line=10'>11</a>\u001b[0m optimizer\u001b[39m.\u001b[39mzero_grad()\n\u001b[0;32m---> <a href='vscode-notebook-cell:/home/ab/apps/ml/nfsolver/notebooks/exploratory/0.3-ab-TrainGNN.ipynb#X15sZmlsZQ%3D%3D?line=11'>12</a>\u001b[0m P, _, imbalance \u001b[39m=\u001b[39m model(data)\n\u001b[1;32m     <a href='vscode-notebook-cell:/home/ab/apps/ml/nfsolver/notebooks/exploratory/0.3-ab-TrainGNN.ipynb#X15sZmlsZQ%3D%3D?line=12'>13</a>\u001b[0m loss \u001b[39m=\u001b[39m criterion(data, P, imbalance)    \n\u001b[1;32m     <a href='vscode-notebook-cell:/home/ab/apps/ml/nfsolver/notebooks/exploratory/0.3-ab-TrainGNN.ipynb#X15sZmlsZQ%3D%3D?line=13'>14</a>\u001b[0m total_loss \u001b[39m+\u001b[39m\u001b[39m=\u001b[39m loss\u001b[39m.\u001b[39mitem() \u001b[39m*\u001b[39m data\u001b[39m.\u001b[39mnum_graphs\n",
      "File \u001b[0;32m~/anaconda3/envs/nfsolver/lib/python3.11/site-packages/torch/nn/modules/module.py:1501\u001b[0m, in \u001b[0;36mModule._call_impl\u001b[0;34m(self, *args, **kwargs)\u001b[0m\n\u001b[1;32m   1496\u001b[0m \u001b[39m# If we don't have any hooks, we want to skip the rest of the logic in\u001b[39;00m\n\u001b[1;32m   1497\u001b[0m \u001b[39m# this function, and just call forward.\u001b[39;00m\n\u001b[1;32m   1498\u001b[0m \u001b[39mif\u001b[39;00m \u001b[39mnot\u001b[39;00m (\u001b[39mself\u001b[39m\u001b[39m.\u001b[39m_backward_hooks \u001b[39mor\u001b[39;00m \u001b[39mself\u001b[39m\u001b[39m.\u001b[39m_backward_pre_hooks \u001b[39mor\u001b[39;00m \u001b[39mself\u001b[39m\u001b[39m.\u001b[39m_forward_hooks \u001b[39mor\u001b[39;00m \u001b[39mself\u001b[39m\u001b[39m.\u001b[39m_forward_pre_hooks\n\u001b[1;32m   1499\u001b[0m         \u001b[39mor\u001b[39;00m _global_backward_pre_hooks \u001b[39mor\u001b[39;00m _global_backward_hooks\n\u001b[1;32m   1500\u001b[0m         \u001b[39mor\u001b[39;00m _global_forward_hooks \u001b[39mor\u001b[39;00m _global_forward_pre_hooks):\n\u001b[0;32m-> 1501\u001b[0m     \u001b[39mreturn\u001b[39;00m forward_call(\u001b[39m*\u001b[39;49margs, \u001b[39m*\u001b[39;49m\u001b[39m*\u001b[39;49mkwargs)\n\u001b[1;32m   1502\u001b[0m \u001b[39m# Do not call functions when jit is used\u001b[39;00m\n\u001b[1;32m   1503\u001b[0m full_backward_hooks, non_full_backward_hooks \u001b[39m=\u001b[39m [], []\n",
      "File \u001b[0;32m~/apps/ml/nfsolver/src/models/gnnprocessor.py:60\u001b[0m, in \u001b[0;36mGNNProcessor.forward\u001b[0;34m(self, data)\u001b[0m\n\u001b[1;32m     57\u001b[0m edge_index, node_attr, edge_attr \u001b[39m=\u001b[39m data\u001b[39m.\u001b[39medge_index, data\u001b[39m.\u001b[39mx, data\u001b[39m.\u001b[39medge_attr\n\u001b[1;32m     59\u001b[0m \u001b[39mfor\u001b[39;00m conv \u001b[39min\u001b[39;00m \u001b[39mself\u001b[39m\u001b[39m.\u001b[39mconvs:\n\u001b[0;32m---> 60\u001b[0m     X \u001b[39m=\u001b[39m conv(X, edge_index, node_attr, edge_attr)\n\u001b[1;32m     61\u001b[0m     X \u001b[39m=\u001b[39m F\u001b[39m.\u001b[39mrelu(X)\n\u001b[1;32m     63\u001b[0m P \u001b[39m=\u001b[39m \u001b[39mself\u001b[39m\u001b[39m.\u001b[39mfinal(X)\n",
      "File \u001b[0;32m~/anaconda3/envs/nfsolver/lib/python3.11/site-packages/torch/nn/modules/module.py:1501\u001b[0m, in \u001b[0;36mModule._call_impl\u001b[0;34m(self, *args, **kwargs)\u001b[0m\n\u001b[1;32m   1496\u001b[0m \u001b[39m# If we don't have any hooks, we want to skip the rest of the logic in\u001b[39;00m\n\u001b[1;32m   1497\u001b[0m \u001b[39m# this function, and just call forward.\u001b[39;00m\n\u001b[1;32m   1498\u001b[0m \u001b[39mif\u001b[39;00m \u001b[39mnot\u001b[39;00m (\u001b[39mself\u001b[39m\u001b[39m.\u001b[39m_backward_hooks \u001b[39mor\u001b[39;00m \u001b[39mself\u001b[39m\u001b[39m.\u001b[39m_backward_pre_hooks \u001b[39mor\u001b[39;00m \u001b[39mself\u001b[39m\u001b[39m.\u001b[39m_forward_hooks \u001b[39mor\u001b[39;00m \u001b[39mself\u001b[39m\u001b[39m.\u001b[39m_forward_pre_hooks\n\u001b[1;32m   1499\u001b[0m         \u001b[39mor\u001b[39;00m _global_backward_pre_hooks \u001b[39mor\u001b[39;00m _global_backward_hooks\n\u001b[1;32m   1500\u001b[0m         \u001b[39mor\u001b[39;00m _global_forward_hooks \u001b[39mor\u001b[39;00m _global_forward_pre_hooks):\n\u001b[0;32m-> 1501\u001b[0m     \u001b[39mreturn\u001b[39;00m forward_call(\u001b[39m*\u001b[39;49margs, \u001b[39m*\u001b[39;49m\u001b[39m*\u001b[39;49mkwargs)\n\u001b[1;32m   1502\u001b[0m \u001b[39m# Do not call functions when jit is used\u001b[39;00m\n\u001b[1;32m   1503\u001b[0m full_backward_hooks, non_full_backward_hooks \u001b[39m=\u001b[39m [], []\n",
      "File \u001b[0;32m~/apps/ml/nfsolver/src/models/gnnsvonv.py:88\u001b[0m, in \u001b[0;36mGNNSConv.forward\u001b[0;34m(self, X, edge_index, node_attr, edge_attr)\u001b[0m\n\u001b[1;32m     86\u001b[0m \u001b[39m# Формирование сообщения j -> i\u001b[39;00m\n\u001b[1;32m     87\u001b[0m \u001b[39mself\u001b[39m\u001b[39m.\u001b[39mflow \u001b[39m=\u001b[39m \u001b[39m\"\u001b[39m\u001b[39msource_to_target\u001b[39m\u001b[39m\"\u001b[39m\n\u001b[0;32m---> 88\u001b[0m phi_in \u001b[39m=\u001b[39m \u001b[39mself\u001b[39;49m\u001b[39m.\u001b[39;49mpropagate(edge_index, x\u001b[39m=\u001b[39;49mX, edge_attr\u001b[39m=\u001b[39;49medge_attr)\n\u001b[1;32m     90\u001b[0m \u001b[39m# Формирование сообщения i -> j\u001b[39;00m\n\u001b[1;32m     91\u001b[0m \u001b[39mself\u001b[39m\u001b[39m.\u001b[39mflow \u001b[39m=\u001b[39m \u001b[39m\"\u001b[39m\u001b[39mtarget_to_source\u001b[39m\u001b[39m\"\u001b[39m\n",
      "File \u001b[0;32m~/anaconda3/envs/nfsolver/lib/python3.11/site-packages/torch_geometric/nn/conv/message_passing.py:467\u001b[0m, in \u001b[0;36mMessagePassing.propagate\u001b[0;34m(self, edge_index, size, **kwargs)\u001b[0m\n\u001b[1;32m    465\u001b[0m     \u001b[39mif\u001b[39;00m res \u001b[39mis\u001b[39;00m \u001b[39mnot\u001b[39;00m \u001b[39mNone\u001b[39;00m:\n\u001b[1;32m    466\u001b[0m         msg_kwargs \u001b[39m=\u001b[39m res[\u001b[39m0\u001b[39m] \u001b[39mif\u001b[39;00m \u001b[39misinstance\u001b[39m(res, \u001b[39mtuple\u001b[39m) \u001b[39melse\u001b[39;00m res\n\u001b[0;32m--> 467\u001b[0m out \u001b[39m=\u001b[39m \u001b[39mself\u001b[39;49m\u001b[39m.\u001b[39;49mmessage(\u001b[39m*\u001b[39;49m\u001b[39m*\u001b[39;49mmsg_kwargs)\n\u001b[1;32m    468\u001b[0m \u001b[39mfor\u001b[39;00m hook \u001b[39min\u001b[39;00m \u001b[39mself\u001b[39m\u001b[39m.\u001b[39m_message_forward_hooks\u001b[39m.\u001b[39mvalues():\n\u001b[1;32m    469\u001b[0m     res \u001b[39m=\u001b[39m hook(\u001b[39mself\u001b[39m, (msg_kwargs, ), out)\n",
      "File \u001b[0;32m~/apps/ml/nfsolver/src/models/gnnsvonv.py:113\u001b[0m, in \u001b[0;36mGNNSConv.message\u001b[0;34m(self, x_i, x_j, edge_attr)\u001b[0m\n\u001b[1;32m    107\u001b[0m mlp \u001b[39m=\u001b[39m \u001b[39mself\u001b[39m\u001b[39m.\u001b[39mmlp_in \u001b[39mif\u001b[39;00m \u001b[39mself\u001b[39m\u001b[39m.\u001b[39mflow \u001b[39m==\u001b[39m \u001b[39m\"\u001b[39m\u001b[39msource_to_target\u001b[39m\u001b[39m\"\u001b[39m \u001b[39melse\u001b[39;00m \u001b[39mself\u001b[39m\u001b[39m.\u001b[39mmlp_out\n\u001b[1;32m    109\u001b[0m \u001b[39m# print(f\"{x_j.shape=}\")\u001b[39;00m\n\u001b[1;32m    110\u001b[0m \u001b[39m# print(f\"{x_i.shape=}\")\u001b[39;00m\n\u001b[1;32m    111\u001b[0m \u001b[39m# print(f\"{edge_attr.shape=}\")\u001b[39;00m\n\u001b[0;32m--> 113\u001b[0m tmp \u001b[39m=\u001b[39m torch\u001b[39m.\u001b[39;49mcat([x_j, x_i, edge_attr], dim\u001b[39m=\u001b[39;49m\u001b[39m-\u001b[39;49m\u001b[39m1\u001b[39;49m)\n\u001b[1;32m    114\u001b[0m out_message \u001b[39m=\u001b[39m mlp(tmp)\n\u001b[1;32m    115\u001b[0m \u001b[39mreturn\u001b[39;00m out_message\n",
      "\u001b[0;31mTypeError\u001b[0m: expected Tensor as element 2 in argument 0, but got list"
     ]
    }
   ],
   "source": [
    "criterion = HydraulicsLoss()\n",
    "optimizer = torch.optim.Adam(model.parameters(), lr=0.01, weight_decay=5e-4)\n",
    "\n",
    "losses = []\n",
    "def train():\n",
    "  model.train()\n",
    "\n",
    "  total_loss = 0\n",
    "  for data in loader:\n",
    "    data = data.to(device)\n",
    "    optimizer.zero_grad()\n",
    "    P, _, imbalance = model(data)\n",
    "    loss = criterion(data, P, imbalance)    \n",
    "    total_loss += loss.item() * data.num_graphs\n",
    "    loss.backward()\n",
    "  # torch.nn.utils.clip_grad_norm_(model.parameters(), 0.01)  \n",
    "    optimizer.step()\n",
    "\n",
    "  total_loss = total_loss / len(loader.dataset)\n",
    "  losses.append(total_loss)\n",
    "  return total_loss\n",
    "\n",
    "for epoch in range(250):\n",
    "  loss = train()\n",
    "  print(f'Epoch: {epoch:03d}, Loss: {loss:.4f}')  "
   ]
  },
  {
   "cell_type": "code",
   "execution_count": null,
   "metadata": {},
   "outputs": [],
   "source": [
    "plt.plot(losses)\n",
    "plt.title('Кривая обучения')\n",
    "plt.xlabel('Эпохи')\n",
    "plt.ylabel('Функция потерь')\n",
    "plt.show()"
   ]
  }
 ],
 "metadata": {
  "kernelspec": {
   "display_name": "nfsolver",
   "language": "python",
   "name": "python3"
  },
  "language_info": {
   "codemirror_mode": {
    "name": "ipython",
    "version": 3
   },
   "file_extension": ".py",
   "mimetype": "text/x-python",
   "name": "python",
   "nbconvert_exporter": "python",
   "pygments_lexer": "ipython3",
   "version": "3.11.5"
  },
  "orig_nbformat": 4
 },
 "nbformat": 4,
 "nbformat_minor": 2
}
