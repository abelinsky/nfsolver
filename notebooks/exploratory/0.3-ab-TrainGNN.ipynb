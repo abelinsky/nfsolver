{
 "cells": [
  {
   "cell_type": "markdown",
   "metadata": {},
   "source": [
    "# Обучение GNN-модели на датасете графов"
   ]
  },
  {
   "cell_type": "code",
   "execution_count": null,
   "metadata": {},
   "outputs": [],
   "source": [
    "%load_ext autoreload\n",
    "%autoreload 2\n",
    "\n",
    "from src.data.hydrodataset import HydroDataset\n",
    "\n",
    "import torch\n",
    "torch.autograd.set_detect_anomaly(True)\n",
    "\n",
    "from src.models.gnnprocessor import GNNProcessor\n",
    "from src.visualization.visualize import visualize_graph\n",
    "from src.models.train_model import HydraulicsLoss\n",
    "\n",
    "from torch_geometric.nn import summary\n",
    "from torch_geometric.data import Data\n",
    "from torch_geometric.loader import DataLoader\n",
    "from torch_geometric.utils import to_networkx\n",
    "\n",
    "import matplotlib.pyplot as plt"
   ]
  },
  {
   "cell_type": "code",
   "execution_count": null,
   "metadata": {},
   "outputs": [],
   "source": [
    "dataset = HydroDataset(root=\"/tmp/hydro\")\n",
    "train_ds = dataset # [:2]\n",
    "print(\"Dataset length:\", len(train_ds))"
   ]
  },
  {
   "cell_type": "code",
   "execution_count": null,
   "metadata": {},
   "outputs": [],
   "source": [
    "G = to_networkx(train_ds[1], to_undirected=False)\n",
    "visualize_graph(G, color=dataset[0].x[..., 1] == 0);"
   ]
  },
  {
   "cell_type": "code",
   "execution_count": null,
   "metadata": {},
   "outputs": [],
   "source": [
    "loader = DataLoader(train_ds, batch_size=12)"
   ]
  },
  {
   "cell_type": "code",
   "execution_count": null,
   "metadata": {},
   "outputs": [],
   "source": [
    "# initial settings: latent_dim=10, num_convs=20, convs_hidden_layers=[16],alpha_update_x=1.0\n",
    "\n",
    "model = GNNProcessor(out_channels=1, \n",
    "                     num_edge_features=dataset.num_edge_features, \n",
    "                     latent_dim=10, \n",
    "                     num_convs=12, \n",
    "                     convs_hidden_layers=[16],\n",
    "                     alpha_update_x=1.0)\n",
    "\n",
    "device = torch.device('cuda' if torch.cuda.is_available() else 'cpu')\n",
    "model.to(device)\n",
    "\n",
    "print(model)"
   ]
  },
  {
   "cell_type": "code",
   "execution_count": null,
   "metadata": {},
   "outputs": [],
   "source": [
    "criterion = HydraulicsLoss()\n",
    "optimizer = torch.optim.Adam(model.parameters(), lr=0.01, weight_decay=5e-4)\n",
    "\n",
    "losses = []\n",
    "def train():\n",
    "  model.train()\n",
    "\n",
    "  total_loss = 0\n",
    "  for data in loader:\n",
    "    data = data.to(device)\n",
    "    optimizer.zero_grad()\n",
    "    P, _, imbalance = model(data)\n",
    "    loss = criterion(data, P, imbalance)    \n",
    "    total_loss += loss.item() * data.num_graphs\n",
    "    loss.backward()\n",
    "    # torch.nn.utils.clip_grad_norm_(model.parameters())  \n",
    "    optimizer.step()\n",
    "\n",
    "  total_loss = total_loss / len(loader.dataset)\n",
    "  losses.append(total_loss)\n",
    "  return total_loss\n",
    "\n",
    "for epoch in range(5000):\n",
    "  loss = train()\n",
    "  if (epoch % 10 == 0):\n",
    "    print(f'Epoch: {epoch:03d}, Loss: {loss:.4f}')  "
   ]
  },
  {
   "cell_type": "code",
   "execution_count": null,
   "metadata": {},
   "outputs": [],
   "source": [
    "plt.plot(losses)\n",
    "plt.title('Кривая обучения')\n",
    "plt.xlabel('Эпохи')\n",
    "plt.ylabel('Функция потерь')\n",
    "plt.show()"
   ]
  },
  {
   "cell_type": "markdown",
   "metadata": {},
   "source": [
    "# Тестирование модели"
   ]
  },
  {
   "cell_type": "code",
   "execution_count": null,
   "metadata": {},
   "outputs": [],
   "source": [
    "edge_index = torch.tensor([\n",
    "  [0, 1, 2],\n",
    "  [1, 2, 3]\n",
    "], dtype=torch.long)\n",
    "\n",
    "# Структура данных атрибутов вершин графа:\n",
    "# Расход газа потребителя в узле, млн м3/сут; Давление газа, МПа\n",
    "x = torch.tensor([[0, 7.4], [0.0, 0], [0, 0], [0, 5.4]], dtype=torch.float32)\n",
    "\n",
    "# Структура данных атрибутов дуг графа:\n",
    "# Протяженность, км; Внутренний диаметр трубы, мм\n",
    "edge_attr = torch.tensor([\n",
    "  [38, 1400],\n",
    "  [40, 1400],\n",
    "  [43, 1400]\n",
    "])\n",
    "\n",
    "data = Data(x=x, edge_index=edge_index, edge_attr=edge_attr)"
   ]
  },
  {
   "cell_type": "code",
   "execution_count": null,
   "metadata": {},
   "outputs": [],
   "source": [
    "%%time\n",
    "# %%timeit \n",
    "# Attention: При выводе значений давления краевые значения не выводятся, но учитываются в расчете\n",
    "P, flows, imbalance = model(data)\n",
    "print(f'{P=}')\n",
    "print(f'{flows=}')\n",
    "print(f'{imbalance=}')"
   ]
  },
  {
   "cell_type": "code",
   "execution_count": null,
   "metadata": {},
   "outputs": [],
   "source": []
  }
 ],
 "metadata": {
  "kernelspec": {
   "display_name": "nfsolver",
   "language": "python",
   "name": "python3"
  },
  "language_info": {
   "codemirror_mode": {
    "name": "ipython",
    "version": 3
   },
   "file_extension": ".py",
   "mimetype": "text/x-python",
   "name": "python",
   "nbconvert_exporter": "python",
   "pygments_lexer": "ipython3",
   "version": "3.11.5"
  },
  "orig_nbformat": 4
 },
 "nbformat": 4,
 "nbformat_minor": 2
}
